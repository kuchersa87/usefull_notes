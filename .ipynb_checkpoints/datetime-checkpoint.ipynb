{
 "cells": [
  {
   "cell_type": "code",
   "execution_count": 1,
   "id": "e2c9bad3",
   "metadata": {},
   "outputs": [],
   "source": [
    "import time\n",
    "from datetime import datetime"
   ]
  },
  {
   "cell_type": "code",
   "execution_count": 2,
   "id": "6e813f8c",
   "metadata": {
    "collapsed": true
   },
   "outputs": [
    {
     "name": "stdout",
     "output_type": "stream",
     "text": [
      "Атрибут _name изменился в 2023-05-11 21:31:47.095650\n"
     ]
    }
   ],
   "source": [
    "print(f\"Атрибут _name изменился в {datetime.now()}\")"
   ]
  },
  {
   "cell_type": "code",
   "execution_count": null,
   "id": "814fb95a",
   "metadata": {},
   "outputs": [],
   "source": [
    "df['contract_dt'] = pd.to_datetime(df['contract_dt'],format='%Y-%m-%d %H:%M:%S')"
   ]
  },
  {
   "cell_type": "code",
   "execution_count": null,
   "id": "5a2bc497",
   "metadata": {},
   "outputs": [],
   "source": [
    "# Так как анализ необходимо проводить по дням - переведём сразу в дни\n",
    "data['reg_ts'] = data['reg_ts'].astype('datetime64[D]')\n",
    "data['auth_ts'] = data['auth_ts'].astype('datetime64[D]')"
   ]
  },
  {
   "cell_type": "code",
   "execution_count": null,
   "id": "9d838059",
   "metadata": {},
   "outputs": [],
   "source": [
    "# Для начала создадим колонку с длительностью дней между регистрацией и входом в игру\n",
    "data = data.assign(dif_days = data.auth_ts - data.reg_ts)\n",
    "data.dif_days = data.dif_days.dt.days  # сразу перевёл в цифру с количеством дней"
   ]
  },
  {
   "cell_type": "code",
   "execution_count": null,
   "id": "dee56978",
   "metadata": {},
   "outputs": [],
   "source": []
  },
  {
   "cell_type": "code",
   "execution_count": null,
   "id": "8f430131",
   "metadata": {},
   "outputs": [],
   "source": []
  },
  {
   "cell_type": "code",
   "execution_count": null,
   "id": "6e41b8d4",
   "metadata": {},
   "outputs": [],
   "source": []
  },
  {
   "cell_type": "code",
   "execution_count": null,
   "id": "5caebb6d",
   "metadata": {},
   "outputs": [],
   "source": []
  }
 ],
 "metadata": {
  "kernelspec": {
   "display_name": "Python 3 (ipykernel)",
   "language": "python",
   "name": "python3"
  },
  "language_info": {
   "codemirror_mode": {
    "name": "ipython",
    "version": 3
   },
   "file_extension": ".py",
   "mimetype": "text/x-python",
   "name": "python",
   "nbconvert_exporter": "python",
   "pygments_lexer": "ipython3",
   "version": "3.9.13"
  }
 },
 "nbformat": 4,
 "nbformat_minor": 5
}

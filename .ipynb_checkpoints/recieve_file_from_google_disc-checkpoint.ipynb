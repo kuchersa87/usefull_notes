{
 "cells": [
  {
   "cell_type": "code",
   "execution_count": null,
   "metadata": {},
   "outputs": [],
   "source": [
    "# Оригинальная ссылка на файл, доступ к файлу должен быть открыт\n",
    "https://docs.google.com/spreadsheets/d/1dxpYtyCxmDIgI8jbFXcz-sdlzP4R6Zy-/edit?usp=share_link&ouid=112578139344017122682&rtpof=true&sd=true\n",
    "# Ссылку необходимо откорректировать!\n",
    "# 1 - удалить остаток после адреса :1dxpYtyCxmDIgI8jbFXcz-sdlzP4R6Zy-/\n",
    "# Итого после удаления: https://docs.google.com/spreadsheets/d/1dxpYtyCxmDIgI8jbFXcz-sdlzP4R6Zy-/\n",
    "# 2 - добавить export?format=\n",
    "# 3 - Указать формат файла"
   ]
  },
  {
   "cell_type": "code",
   "execution_count": 1,
   "metadata": {},
   "outputs": [],
   "source": [
    "from io import BytesIO\n",
    "import requests\n",
    "import pandas as pd\n",
    "# Проверить корректность ссылки и ФОРМАТА файла\n",
    "link = 'https://docs.google.com/spreadsheets/d/1dxpYtyCxmDIgI8jbFXcz-sdlzP4R6Zy-/export?format=xlsx'\n",
    "req = requests.get(link)\n",
    "data = req.content\n",
    "# Проверить функцию для открытия файла\n",
    "df = pd.read_excel(BytesIO(data))"
   ]
  }
 ],
 "metadata": {
  "kernelspec": {
   "display_name": "Python 3 (ipykernel)",
   "language": "python",
   "name": "python3"
  },
  "language_info": {
   "codemirror_mode": {
    "name": "ipython",
    "version": 3
   },
   "file_extension": ".py",
   "mimetype": "text/x-python",
   "name": "python",
   "nbconvert_exporter": "python",
   "pygments_lexer": "ipython3",
   "version": "3.9.13"
  }
 },
 "nbformat": 4,
 "nbformat_minor": 4
}

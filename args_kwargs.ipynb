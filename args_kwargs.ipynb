{
 "cells": [
  {
   "cell_type": "markdown",
   "id": "8c48dbda",
   "metadata": {},
   "source": [
    "args_kwargs"
   ]
  },
  {
   "cell_type": "code",
   "execution_count": null,
   "id": "9e2c5794",
   "metadata": {},
   "outputs": [],
   "source": [
    "# Элемент *\n",
    "# Примеры работы с ним"
   ]
  },
  {
   "cell_type": "code",
   "execution_count": 1,
   "id": "5a6ef066",
   "metadata": {
    "collapsed": true
   },
   "outputs": [
    {
     "name": "stdout",
     "output_type": "stream",
     "text": [
      "2 3 4\n"
     ]
    }
   ],
   "source": [
    "a, b, c = [2,3,4]\n",
    "print(a, b, c)"
   ]
  },
  {
   "cell_type": "code",
   "execution_count": 2,
   "id": "fbd91e12",
   "metadata": {
    "collapsed": true
   },
   "outputs": [
    {
     "ename": "ValueError",
     "evalue": "too many values to unpack (expected 3)",
     "output_type": "error",
     "traceback": [
      "\u001b[1;31m---------------------------------------------------------------------------\u001b[0m",
      "\u001b[1;31mValueError\u001b[0m                                Traceback (most recent call last)",
      "\u001b[1;32m~\\AppData\\Local\\Temp\\ipykernel_11124\\1601700174.py\u001b[0m in \u001b[0;36m<module>\u001b[1;34m\u001b[0m\n\u001b[1;32m----> 1\u001b[1;33m \u001b[0ma\u001b[0m\u001b[1;33m,\u001b[0m \u001b[0mb\u001b[0m\u001b[1;33m,\u001b[0m \u001b[0mc\u001b[0m \u001b[1;33m=\u001b[0m \u001b[1;33m[\u001b[0m\u001b[1;36m2\u001b[0m\u001b[1;33m,\u001b[0m\u001b[1;36m3\u001b[0m\u001b[1;33m,\u001b[0m\u001b[1;36m4\u001b[0m\u001b[1;33m,\u001b[0m\u001b[1;36m10\u001b[0m\u001b[1;33m]\u001b[0m\u001b[1;33m\u001b[0m\u001b[1;33m\u001b[0m\u001b[0m\n\u001b[0m\u001b[0;32m      2\u001b[0m \u001b[0mprint\u001b[0m\u001b[1;33m(\u001b[0m\u001b[0ma\u001b[0m\u001b[1;33m,\u001b[0m \u001b[0mb\u001b[0m\u001b[1;33m,\u001b[0m \u001b[0mc\u001b[0m\u001b[1;33m)\u001b[0m\u001b[1;33m\u001b[0m\u001b[1;33m\u001b[0m\u001b[0m\n",
      "\u001b[1;31mValueError\u001b[0m: too many values to unpack (expected 3)"
     ]
    }
   ],
   "source": [
    "a, b, c = [2,3,4,10]\n",
    "print(a, b, c)\n",
    "# ValueError: too many values to unpack (expected 3)"
   ]
  },
  {
   "cell_type": "code",
   "execution_count": 6,
   "id": "868e4726",
   "metadata": {
    "collapsed": true
   },
   "outputs": [
    {
     "name": "stdout",
     "output_type": "stream",
     "text": [
      "2 [3, 4] 10\n"
     ]
    }
   ],
   "source": [
    "a, *b, c = [2,3,4,10]\n",
    "print(a, b, c)\n",
    "# 2 [3, 4] 10\n",
    "# все элементы, которые не \"влезли в a / c будут находиться в b\""
   ]
  },
  {
   "cell_type": "code",
   "execution_count": 7,
   "id": "47dea5cd",
   "metadata": {
    "collapsed": true
   },
   "outputs": [
    {
     "name": "stdout",
     "output_type": "stream",
     "text": [
      "h e ['l', 'l', 'o', ' ', 'w', 'o', 'r', 'l', 'd']\n"
     ]
    }
   ],
   "source": [
    "a, b, *c = 'hello world'\n",
    "print(a, b, c)\n",
    "# h e ['l', 'l', 'o', ' ', 'w', 'o', 'r', 'l', 'd']\n",
    "# все элементы, которые не \"влезли в a / b будут находиться в c\""
   ]
  },
  {
   "cell_type": "code",
   "execution_count": 8,
   "id": "3170dc84",
   "metadata": {
    "collapsed": true
   },
   "outputs": [
    {
     "name": "stdout",
     "output_type": "stream",
     "text": [
      "l d []\n"
     ]
    }
   ],
   "source": [
    "a, b, *c = 'ld'\n",
    "print(a, b, c)\n",
    "# l d []\n",
    "# для переменной с недостаточно аргументов - не критично - будет пустой список"
   ]
  },
  {
   "cell_type": "code",
   "execution_count": 5,
   "id": "bedac276",
   "metadata": {
    "collapsed": true
   },
   "outputs": [
    {
     "name": "stdout",
     "output_type": "stream",
     "text": [
      "[1, 2, 3, 4]\n",
      "[4, 6, 8]\n"
     ]
    }
   ],
   "source": [
    "# Пример распаковки данных из списка\n",
    "s = [4,10,2]\n",
    "print(list(range(1,5)))\n",
    "print(list(range(*s)))  # распакует данные из списка s"
   ]
  },
  {
   "cell_type": "code",
   "execution_count": 9,
   "id": "c8e97ce4",
   "metadata": {
    "collapsed": true
   },
   "outputs": [
    {
     "name": "stdout",
     "output_type": "stream",
     "text": [
      "True hello 78 [7, 8, 9]\n"
     ]
    }
   ],
   "source": [
    "# Пример распаковки кортежа при передаче аргументов в функцию\n",
    "def f(a,b,c,d):\n",
    "    print(a,b,c,d)\n",
    "a = (True, 'hello', 78, [7,8,9])\n",
    "#f(a)  # так работать не будет\n",
    "f(*a)  # так работать будет, распакует все значения из кортежа и передаст в функцию"
   ]
  },
  {
   "cell_type": "code",
   "execution_count": 12,
   "id": "7f037f33",
   "metadata": {
    "collapsed": true
   },
   "outputs": [
    {
     "name": "stdout",
     "output_type": "stream",
     "text": [
      "(2, True, [334]) <class 'tuple'>\n"
     ]
    }
   ],
   "source": [
    "# Использование оператора * в определении функции\n",
    "def f2(*args):\n",
    "    print(args, type(args))\n",
    "f2(2, True, [334])  # все переданные значения упаковываются в виде кортежа\n",
    "# (2, True, [334]) <class 'tuple'>\n",
    "# Аргументы переданы в функцию в виде кортежа"
   ]
  },
  {
   "cell_type": "code",
   "execution_count": 14,
   "id": "1642c32a",
   "metadata": {
    "collapsed": true
   },
   "outputs": [
    {
     "name": "stdout",
     "output_type": "stream",
     "text": [
      "15\n"
     ]
    }
   ],
   "source": [
    "def f3(*args):\n",
    "    s = 0\n",
    "    for i in args:\n",
    "        s += i\n",
    "    print(s)\n",
    "f3(2, 5, 8)"
   ]
  },
  {
   "cell_type": "code",
   "execution_count": 15,
   "id": "0f98594f",
   "metadata": {
    "collapsed": true
   },
   "outputs": [
    {
     "name": "stdout",
     "output_type": "stream",
     "text": [
      "{'a': 5, 'b': 4, 'c': 6}\n"
     ]
    }
   ],
   "source": [
    "# Как в функцию передавать неограниченное количество именовынных аргументов\n",
    "def f4(**kwargs):\n",
    "    print(kwargs)\n",
    "f4(a=5, b=4, c=6)\n",
    "# вернёт словарь\n",
    "# {'a': 5, 'b': 4, 'c': 6}"
   ]
  },
  {
   "cell_type": "code",
   "execution_count": 2,
   "id": "49ffe7e0",
   "metadata": {
    "collapsed": true
   },
   "outputs": [
    {
     "name": "stdout",
     "output_type": "stream",
     "text": [
      "a 5\n",
      "b 4\n",
      "c 6\n"
     ]
    }
   ],
   "source": [
    "# Обойти все данные из kwargs:\n",
    "def f4(**kwargs):\n",
    "    for key, value in kwargs.items():\n",
    "        print(k, w)\n",
    "f4(a=5, b=4, c=6)"
   ]
  },
  {
   "cell_type": "code",
   "execution_count": null,
   "id": "090661de",
   "metadata": {},
   "outputs": [],
   "source": [
    "# Пример с ООП - добавление произвольного количества атрибутов при инициции ЭК\n",
    "class CustomLabel:\n",
    "    def __init__(self, text, **kwargs):\n",
    "        self.text = text\n",
    "        for key, value in kwargs.items():\n",
    "            self.__dict__[key] = value"
   ]
  },
  {
   "cell_type": "code",
   "execution_count": 3,
   "id": "86981f1b",
   "metadata": {
    "collapsed": true
   },
   "outputs": [
    {
     "name": "stdout",
     "output_type": "stream",
     "text": [
      "(3, 'hello') {'a': 5, 'b': 4, 'c': 6}\n"
     ]
    }
   ],
   "source": [
    "# Совместим args и kwargs:\n",
    "def f4(*args, **kwargs):\n",
    "    print(args, kwargs)\n",
    "f4(3,'hello', a=5, b=4, c=6)\n",
    "# (3, 'hello') {'a': 5, 'b': 4, 'c': 6}\n",
    "# сначала кортеж из данных под args, далее словарь из данных под kwagrs"
   ]
  },
  {
   "cell_type": "code",
   "execution_count": 6,
   "id": "6ee26330",
   "metadata": {},
   "outputs": [
    {
     "name": "stdout",
     "output_type": "stream",
     "text": [
      "5 4 8\n"
     ]
    }
   ],
   "source": [
    "# Использование функции * при выводе на печать\n",
    "a = [5, 4, 8]\n",
    "print(*a)  # В таком случае выведутся цифры по-отдельности, а не как 1 список"
   ]
  }
 ],
 "metadata": {
  "kernelspec": {
   "display_name": "Python 3 (ipykernel)",
   "language": "python",
   "name": "python3"
  },
  "language_info": {
   "codemirror_mode": {
    "name": "ipython",
    "version": 3
   },
   "file_extension": ".py",
   "mimetype": "text/x-python",
   "name": "python",
   "nbconvert_exporter": "python",
   "pygments_lexer": "ipython3",
   "version": "3.9.13"
  }
 },
 "nbformat": 4,
 "nbformat_minor": 5
}

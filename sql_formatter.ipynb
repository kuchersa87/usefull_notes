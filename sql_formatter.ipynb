{
 "cells": [
  {
   "cell_type": "code",
   "execution_count": null,
   "id": "04e1fcb7",
   "metadata": {},
   "outputs": [],
   "source": [
    "Для преобразования кода в стандарт SQL используются sql фораторы"
   ]
  },
  {
   "cell_type": "code",
   "execution_count": null,
   "id": "57463cfb",
   "metadata": {},
   "outputs": [],
   "source": [
    "https://sqlformat.org/"
   ]
  },
  {
   "cell_type": "code",
   "execution_count": null,
   "id": "c092968e",
   "metadata": {},
   "outputs": [],
   "source": [
    "# Было\n",
    "select t.age*3 as multiply_age from german_credit as t"
   ]
  },
  {
   "cell_type": "code",
   "execution_count": null,
   "id": "1eba248d",
   "metadata": {},
   "outputs": [],
   "source": [
    "# Стало\n",
    "SELECT t.age*3 AS multiply_age\n",
    "FROM german_credit AS t"
   ]
  }
 ],
 "metadata": {
  "kernelspec": {
   "display_name": "Python 3 (ipykernel)",
   "language": "python",
   "name": "python3"
  },
  "language_info": {
   "codemirror_mode": {
    "name": "ipython",
    "version": 3
   },
   "file_extension": ".py",
   "mimetype": "text/x-python",
   "name": "python",
   "nbconvert_exporter": "python",
   "pygments_lexer": "ipython3",
   "version": "3.9.13"
  }
 },
 "nbformat": 4,
 "nbformat_minor": 5
}

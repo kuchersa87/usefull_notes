{
 "cells": [
  {
   "cell_type": "code",
   "execution_count": 1,
   "id": "ecc239fb",
   "metadata": {},
   "outputs": [],
   "source": [
    "import pandas as pd"
   ]
  },
  {
   "cell_type": "code",
   "execution_count": 3,
   "id": "337d6f43",
   "metadata": {},
   "outputs": [],
   "source": [
    "df = pd.DataFrame({'user_id' : [99, 90, 88], 'user_name':['Bob', 'Max', 'Piter']})"
   ]
  },
  {
   "cell_type": "code",
   "execution_count": 5,
   "id": "191700ec",
   "metadata": {},
   "outputs": [],
   "source": [
    "import sqlite3"
   ]
  },
  {
   "cell_type": "code",
   "execution_count": 6,
   "id": "e043b1fd",
   "metadata": {},
   "outputs": [],
   "source": [
    "# Создали файл базы данных\n",
    "con = sqlite3.connect('db_test')"
   ]
  },
  {
   "cell_type": "code",
   "execution_count": 9,
   "id": "24e6eed6",
   "metadata": {
    "collapsed": true
   },
   "outputs": [
    {
     "data": {
      "text/plain": [
       "3"
      ]
     },
     "execution_count": 9,
     "metadata": {},
     "output_type": "execute_result"
    }
   ],
   "source": [
    "# Выгрузили дф в БД\n",
    "df.to_sql('db_test', con, index = False, if_exists = 'replace')"
   ]
  },
  {
   "cell_type": "code",
   "execution_count": 7,
   "id": "1af70bc1",
   "metadata": {},
   "outputs": [],
   "source": [
    "# сам запрос\n",
    "sql = '''select * from db_test'''"
   ]
  },
  {
   "cell_type": "code",
   "execution_count": 10,
   "id": "7fb1e88f",
   "metadata": {},
   "outputs": [],
   "source": [
    "# функция для отправки запроса в БД\n",
    "def select(sql):\n",
    "    return pd.read_sql(sql, con)"
   ]
  },
  {
   "cell_type": "code",
   "execution_count": 11,
   "id": "e7a09344",
   "metadata": {},
   "outputs": [
    {
     "data": {
      "text/html": [
       "<div>\n",
       "<style scoped>\n",
       "    .dataframe tbody tr th:only-of-type {\n",
       "        vertical-align: middle;\n",
       "    }\n",
       "\n",
       "    .dataframe tbody tr th {\n",
       "        vertical-align: top;\n",
       "    }\n",
       "\n",
       "    .dataframe thead th {\n",
       "        text-align: right;\n",
       "    }\n",
       "</style>\n",
       "<table border=\"1\" class=\"dataframe\">\n",
       "  <thead>\n",
       "    <tr style=\"text-align: right;\">\n",
       "      <th></th>\n",
       "      <th>user_id</th>\n",
       "      <th>user_name</th>\n",
       "    </tr>\n",
       "  </thead>\n",
       "  <tbody>\n",
       "    <tr>\n",
       "      <th>0</th>\n",
       "      <td>99</td>\n",
       "      <td>Bob</td>\n",
       "    </tr>\n",
       "    <tr>\n",
       "      <th>1</th>\n",
       "      <td>90</td>\n",
       "      <td>Max</td>\n",
       "    </tr>\n",
       "    <tr>\n",
       "      <th>2</th>\n",
       "      <td>88</td>\n",
       "      <td>Piter</td>\n",
       "    </tr>\n",
       "  </tbody>\n",
       "</table>\n",
       "</div>"
      ],
      "text/plain": [
       "   user_id user_name\n",
       "0       99       Bob\n",
       "1       90       Max\n",
       "2       88     Piter"
      ]
     },
     "execution_count": 11,
     "metadata": {},
     "output_type": "execute_result"
    }
   ],
   "source": [
    "# выполнение запроса через функцию\n",
    "select(sql)"
   ]
  }
 ],
 "metadata": {
  "kernelspec": {
   "display_name": "Python 3 (ipykernel)",
   "language": "python",
   "name": "python3"
  },
  "language_info": {
   "codemirror_mode": {
    "name": "ipython",
    "version": 3
   },
   "file_extension": ".py",
   "mimetype": "text/x-python",
   "name": "python",
   "nbconvert_exporter": "python",
   "pygments_lexer": "ipython3",
   "version": "3.9.13"
  }
 },
 "nbformat": 4,
 "nbformat_minor": 5
}

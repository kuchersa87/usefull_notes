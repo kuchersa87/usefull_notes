{
 "cells": [
  {
   "cell_type": "code",
   "execution_count": null,
   "id": "7bf93fc8",
   "metadata": {},
   "outputs": [],
   "source": [
    "Метод dict.keys() возвращает новый список-представление всех ключей dict_keys, содержащихся в словаре dict."
   ]
  },
  {
   "cell_type": "code",
   "execution_count": null,
   "id": "ed08ab88",
   "metadata": {},
   "outputs": [],
   "source": [
    "Метод dict.values() возвращает объект представления, который отображает список всех значений в словаре."
   ]
  }
 ],
 "metadata": {
  "kernelspec": {
   "display_name": "Python 3 (ipykernel)",
   "language": "python",
   "name": "python3"
  },
  "language_info": {
   "codemirror_mode": {
    "name": "ipython",
    "version": 3
   },
   "file_extension": ".py",
   "mimetype": "text/x-python",
   "name": "python",
   "nbconvert_exporter": "python",
   "pygments_lexer": "ipython3",
   "version": "3.9.13"
  }
 },
 "nbformat": 4,
 "nbformat_minor": 5
}

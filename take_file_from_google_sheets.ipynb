{
 "cells": [
  {
   "cell_type": "code",
   "execution_count": null,
   "id": "14d03822",
   "metadata": {},
   "outputs": [],
   "source": [
    "# Ссылка на общий доступ к файлу\n",
    "https://docs.google.com/spreadsheets/d/ '1HLEgq8yn17JHwZ3UWBgRgt-6s3LYiPo6sl0b6eAMBDU' /edit?usp=sharing"
   ]
  },
  {
   "cell_type": "code",
   "execution_count": 1,
   "id": "5565c275",
   "metadata": {},
   "outputs": [],
   "source": [
    "# id из названия файла\n",
    "id = '1HLEgq8yn17JHwZ3UWBgRgt-6s3LYiPo6sl0b6eAMBDU'"
   ]
  },
  {
   "cell_type": "code",
   "execution_count": 2,
   "id": "9bb58f8f",
   "metadata": {},
   "outputs": [],
   "source": [
    "import pandas as pd"
   ]
  },
  {
   "cell_type": "code",
   "execution_count": 3,
   "id": "2412b87f",
   "metadata": {},
   "outputs": [],
   "source": [
    "df = pd.read_csv(f'https://docs.google.com/spreadsheets/d/{id}/export?format=csv')"
   ]
  }
 ],
 "metadata": {
  "kernelspec": {
   "display_name": "Python 3 (ipykernel)",
   "language": "python",
   "name": "python3"
  },
  "language_info": {
   "codemirror_mode": {
    "name": "ipython",
    "version": 3
   },
   "file_extension": ".py",
   "mimetype": "text/x-python",
   "name": "python",
   "nbconvert_exporter": "python",
   "pygments_lexer": "ipython3",
   "version": "3.9.13"
  }
 },
 "nbformat": 4,
 "nbformat_minor": 5
}

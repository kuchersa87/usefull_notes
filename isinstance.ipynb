{
 "cells": [
  {
   "cell_type": "code",
   "execution_count": null,
   "id": "08beb998",
   "metadata": {},
   "outputs": [],
   "source": [
    "с isinstance надо запомнить, для нее булево значение и int одно и то же. Она вернет True при проверке. \n",
    "Это как раз из-за наследования. \n",
    "Проще говоря isinstance(True, int) и isinstance(5, int) - вернет в обоих случаях True"
   ]
  },
  {
   "cell_type": "code",
   "execution_count": null,
   "id": "5a3ce61c",
   "metadata": {},
   "outputs": [],
   "source": [
    ">>> isinstance(1, (int, str))\n",
    "# True"
   ]
  }
 ],
 "metadata": {
  "kernelspec": {
   "display_name": "Python 3 (ipykernel)",
   "language": "python",
   "name": "python3"
  },
  "language_info": {
   "codemirror_mode": {
    "name": "ipython",
    "version": 3
   },
   "file_extension": ".py",
   "mimetype": "text/x-python",
   "name": "python",
   "nbconvert_exporter": "python",
   "pygments_lexer": "ipython3",
   "version": "3.9.13"
  }
 },
 "nbformat": 4,
 "nbformat_minor": 5
}
